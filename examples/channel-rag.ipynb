{
 "cells": [
  {
   "cell_type": "code",
   "execution_count": null,
   "metadata": {},
   "outputs": [],
   "source": [
    "!pip install -q langchain-text-splitters==0.3.5\n",
    "!pip install -qU langchain-openai\n",
    "!pip install -qU \"langchain-chroma>=0.1.2\""
   ]
  },
  {
   "cell_type": "markdown",
   "metadata": {},
   "source": [
    "## 1.Get Channel Subtitle"
   ]
  },
  {
   "cell_type": "markdown",
   "metadata": {},
   "source": [
    "for the demo we are using popular 10 vidoes from this channel\n",
    "`https://www.youtube.com/@TEDx`"
   ]
  },
  {
   "cell_type": "code",
   "execution_count": 1,
   "metadata": {},
   "outputs": [],
   "source": [
    "directory = \"channel_data\""
   ]
  },
  {
   "cell_type": "code",
   "execution_count": 3,
   "metadata": {},
   "outputs": [
    {
     "name": "stderr",
     "output_type": "stream",
     "text": [
      "100%|██████████| 10/10 [01:05<00:00,  6.55s/it]\n"
     ]
    }
   ],
   "source": [
    "from ytkit import GetChannelSubtitle\n",
    "\n",
    "get_channel_subtlte = GetChannelSubtitle()\n",
    "get_channel_subtlte.get(channel_username=\"TEDx\",\n",
    "                        sort_by=\"popular\",\n",
    "                        limit=10,\n",
    "                        language=\"en\",\n",
    "                        save_to_disk=directory,\n",
    "                        )"
   ]
  },
  {
   "cell_type": "markdown",
   "metadata": {},
   "source": [
    "## 2. Splitting-Text"
   ]
  },
  {
   "cell_type": "code",
   "execution_count": 4,
   "metadata": {},
   "outputs": [],
   "source": [
    "from langchain_text_splitters import RecursiveCharacterTextSplitter\n",
    "import os\n",
    "\n",
    "\n",
    "\n",
    "# Get all files from the directory\n",
    "files = [f for f in os.listdir(directory) if os.path.isfile(os.path.join(directory, f))]\n",
    "texts=[]\n",
    "for file in files:\n",
    "    # Load example document\n",
    "    with open(f\"{directory}/{file}\") as f:\n",
    "        text = f.read()\n",
    "        texts.append(text)\n",
    "\n",
    "text_splitter = RecursiveCharacterTextSplitter(\n",
    "    # Set a really small chunk size, just to show.\n",
    "    chunk_size=400,\n",
    "    chunk_overlap=20,\n",
    "    length_function=len,\n",
    "    is_separator_regex=False,\n",
    ")\n",
    "texts = text_splitter.create_documents(texts)"
   ]
  },
  {
   "cell_type": "code",
   "execution_count": 5,
   "metadata": {},
   "outputs": [
    {
     "data": {
      "text/plain": [
       "[Document(metadata={}, page_content=\"Translator: Vicky Lara Labaila\\nReviewer: Denise RQ It's been said if you never want\\nto have sex again, get married. (Laughter) Sex is one of the most contentious\\nissues in marriage today, second only to finances. There are many married couples that have not had sex\\nfor months, even years, and that's OK as long as they are OK\\nwith it and happily married. The problem arises when one person\"),\n",
       " Document(metadata={}, page_content=\"in the relationship wants sex, and the other doesn't. According to a national newspaper survey\\nof approximately 10,000 respondents - mostly married men - 75% were satisfied in their relationship, but more than 50%\\nwere dissatisfied with their sex lives. We are having sex\\n- don't get me wrong - we are just having sex at the wrong time,\"),\n",
       " Document(metadata={}, page_content=\"and with the wrong people; I'll get to that later. (Laughter) We are having sex before we get married,\\nten years on average, so we are effectively\\nin a long-term relationship and potentially, quite sexually bored\\nbefore we even mess up the marital bed. And that has its consequences. Most brides today do not have sex\\non their wedding nights, and 50% of men would not\")]"
      ]
     },
     "execution_count": 5,
     "metadata": {},
     "output_type": "execute_result"
    }
   ],
   "source": [
    "texts[:3]"
   ]
  },
  {
   "cell_type": "markdown",
   "metadata": {},
   "source": [
    "## 3. Ingesting in vectorDB"
   ]
  },
  {
   "cell_type": "code",
   "execution_count": 6,
   "metadata": {},
   "outputs": [],
   "source": [
    "import getpass\n",
    "import os\n",
    "\n",
    "if not os.environ.get(\"OPENAI_API_KEY\"):\n",
    "  os.environ[\"OPENAI_API_KEY\"] = getpass.getpass(\"Enter API key for OpenAI: \")\n",
    "\n",
    "from langchain_openai import OpenAIEmbeddings\n",
    "\n",
    "embeddings = OpenAIEmbeddings()"
   ]
  },
  {
   "cell_type": "code",
   "execution_count": 7,
   "metadata": {},
   "outputs": [
    {
     "data": {
      "text/plain": [
       "['6115f44b-ffdf-4e53-8b1a-aa970bb8ca81',\n",
       " '7b299136-307b-4ad7-ad50-ccdd326a629b',\n",
       " 'd30bc203-84a3-45d6-ae16-73e8de8f13bc',\n",
       " 'faa3054f-a0aa-4fe2-8648-77b89066465e',\n",
       " 'caaed9ec-2996-41f1-a3a2-629aaee57969',\n",
       " '48b4decf-7989-4441-9150-36842026c826',\n",
       " '1b212de7-35ba-42ec-876d-96f49ee2d89d',\n",
       " 'c598be12-252a-42dc-a259-e7fc2988595d',\n",
       " '79e42deb-96ce-424f-8794-2c599ca363e5',\n",
       " 'f8c06bd2-17da-48ef-8d6e-e627adec91f6',\n",
       " '01ee0467-5d64-4448-a52b-d834849fbe2c',\n",
       " '65c67917-1dc9-440c-875b-c0a5a9e05692',\n",
       " '6f385fb0-6aa3-4a3f-a16c-5484140e5028',\n",
       " 'a1cc1796-fdc9-4f78-bad9-52643e4f2ae4',\n",
       " '921d0b7c-ee77-4050-9d1d-18641b235db2',\n",
       " '6dd27299-2c19-4143-bfd0-3a0b0cbdf14e',\n",
       " 'fd879b82-16fd-4e81-9b10-97f7d24f59c3',\n",
       " '556c8046-a8e7-4960-874e-987a8f81e27c',\n",
       " '29873f34-1308-4f70-b0d5-9a5bb47fb417',\n",
       " '5980c198-72d4-44c5-9308-aa719d8fb0c0',\n",
       " 'a57c91d6-0b01-4bea-a2b9-6ea880401748',\n",
       " '34af1f5c-f53a-486e-829d-c802133c4c4b',\n",
       " 'aec04566-68d8-43bf-8a43-54fb4ce8e5e2',\n",
       " '92f3d9fa-e5b9-4550-948f-f0badd066812',\n",
       " '6feb7f70-c99a-4429-92dd-1c6f8647f032',\n",
       " 'ed95b4fa-b4c9-494f-81ed-5e187089be4b',\n",
       " 'bb7c2134-f08d-49ed-967f-44f73be4d63a',\n",
       " '214d0ff0-1c5e-446f-a635-adea5f955b05',\n",
       " 'f859dede-23a9-48f7-a02b-640aef7cf153',\n",
       " '016afea1-237f-46ce-bfa6-ef3c29ffd03a',\n",
       " '30461051-b845-4bf4-9616-eda7f12acd97',\n",
       " '46d9d365-0104-4834-bbae-bc554d35c6ed',\n",
       " '0d8415a3-4e10-47ec-a808-cf250af3acbf',\n",
       " '68d4c8f4-ec54-479a-bbd1-56968c684fa3',\n",
       " 'b582b679-cb54-4610-88a7-f6be6dcc2b56',\n",
       " '0ad0097f-583c-446f-9317-1e91b2e5fbb9',\n",
       " '92abdbbf-86e0-44ff-a08f-0254906fef25',\n",
       " '48cd891d-e938-4873-b973-71385226d3cc',\n",
       " 'c828cdff-9144-47be-a80d-4cda67256ac1',\n",
       " '1701a781-a580-4692-a22c-829634ff0653',\n",
       " 'a341edca-ab63-4365-838a-870a7428e72f',\n",
       " '48bbfafd-ed5c-431b-96e8-60ce098d6315',\n",
       " 'd1ab817a-66ad-412f-9cb9-30c28db14d98',\n",
       " 'd53bfa74-6ff1-4d57-b031-6b8446dc0447',\n",
       " '577e6508-9310-4824-87ab-800af3ddcb4b',\n",
       " '25c2a176-b5e5-47f1-b250-8ec6cc973ac1',\n",
       " 'd6547c8a-1423-42e3-9892-b0bb08c6a338',\n",
       " 'cb02f291-e359-4c48-af43-c8064135ac86',\n",
       " 'e88eedea-89dd-428c-aafb-1dcf0c006192',\n",
       " 'd73e4f0c-1b1b-45a7-862d-f3a315de34c9',\n",
       " 'dbb6936c-ff9a-41b2-8e10-b76171f4986d',\n",
       " '95a54a6b-b317-40ed-b0ed-3d44714e1e77',\n",
       " '83459d4f-dbfc-477b-b555-a7a3b3bf7470',\n",
       " '41d4c301-6b67-4693-8c68-39b9106a2332',\n",
       " '9822551a-63ba-4142-a496-66a5942b83e1',\n",
       " '00fd5783-c1af-4c3d-a3dd-869bab4f7203',\n",
       " '107060e5-3baf-404b-9c0b-3233cd758504',\n",
       " 'cf515c2f-4c72-4cec-9f74-7e0902b4b962',\n",
       " 'df9e78c8-e576-4cdf-9abb-f0c8a912c9f7',\n",
       " 'e5f63767-dfbb-47f9-a897-a2f7bb7c96c2',\n",
       " 'a0d28f87-dea4-4780-ada8-f8d0d9d34a82',\n",
       " 'f7b2c03d-8417-4dd6-b27a-01fc11bddd85',\n",
       " 'dcf3216a-645a-4998-986b-2264593692ee',\n",
       " '50e3bbc9-44d0-4ee8-8bc2-bb76d2453f53',\n",
       " '1089a195-8303-43dd-b15b-61afc675b0ed',\n",
       " 'b3ce93d7-dc30-4c48-9ce5-962f9045249d',\n",
       " 'dc05157a-9e59-4953-ade4-f5f29497df46',\n",
       " 'bb01ecb0-777e-4c46-9d52-ff99bb79a999',\n",
       " '57c75416-d3b9-49d1-9866-a10bacb4276c',\n",
       " 'e49be71d-b6c5-4bb3-b220-bf2fc49e0b80',\n",
       " '0319514f-1ef7-42d6-bc5c-2bdf4934a8b1',\n",
       " 'f413e8b6-f887-4332-9105-f6f5298dddee',\n",
       " 'e8296b37-b4b3-4382-92cd-19a4a0f9b28f',\n",
       " '1593550c-03e6-4ff6-ac1d-b3b1c7d50d3c',\n",
       " '4a743a2a-49e7-44da-bbfb-a82f929eeae5',\n",
       " '5a33aa98-16bb-4e4b-9fae-93fe7329260e',\n",
       " '388cde8e-ecdb-4d8e-bb07-ca35a6171dd6',\n",
       " '530f0ebb-ba13-4bb5-8088-39bbf1a469ba',\n",
       " 'aa5a9e8e-bfbf-45d0-9800-c408772ea934',\n",
       " '0a961f89-021a-4273-8bed-af96dd90ba9c',\n",
       " 'e55bd098-c448-43b3-ae30-0c64a66f4a0e',\n",
       " '926c903e-8dbb-4f8a-b224-f885a06dd27b',\n",
       " '81635541-0e49-472a-af53-4f5ee8e5643b',\n",
       " 'bdd570df-7bcb-40a8-b578-51215fbadea3',\n",
       " 'e6f3c968-a4af-45b7-b9e3-2bd195a712c7',\n",
       " '181202e7-03be-49d6-aaef-dfdeacf36226',\n",
       " 'c9ba3375-7684-4d38-8389-8243499928f4',\n",
       " '6e129f25-8810-46c1-969f-19463b0589f8',\n",
       " '08ef985f-5099-43c7-8caa-97cce4397405',\n",
       " '1091033a-8867-4a32-9a58-41d774475447',\n",
       " '7b85dfb7-59b1-454d-8ef8-d3932ab1858e',\n",
       " 'cc4494b3-d4dd-4572-aedb-52275ac1e1d6',\n",
       " 'eb94a444-53b7-4cbf-988d-d522a16a074b',\n",
       " 'dd094db2-f8c4-45bd-9e67-d8b4e9b650d8',\n",
       " 'e69f98eb-9046-440d-9bd3-f3da1ecbac74',\n",
       " '9a890bbd-082c-4353-a945-e31def355d7b',\n",
       " '145db0e4-2a38-40e9-9bba-8f48aa8502b5',\n",
       " 'b50da911-4970-4064-8f9a-e214d1700333',\n",
       " '19292582-7073-45e4-b412-145740b9380b',\n",
       " '09c738ca-a63b-4f01-bc04-1fc0d191e0ee',\n",
       " '32cf5715-2104-4588-b451-51085872fdfe',\n",
       " 'de0fe06d-e324-4626-97ac-9a41c216cd04',\n",
       " 'e3bb767d-8eb4-462c-8702-ad55f4ee0ce0',\n",
       " '32cc0385-2483-4d44-b0c7-87491a7e4cef',\n",
       " 'fc323cc0-6d77-4ae8-b9af-dbebdbe416c0',\n",
       " '1efd8e3e-671d-48e2-942e-8b5e5493bbf2',\n",
       " '91b00db0-df2d-44c2-a935-9d872cf21e59',\n",
       " 'de843d40-8dbd-4884-a9f4-dcb03b86d18d',\n",
       " 'b38c1b4a-4b66-4a5e-a8f7-6b5de83c552a',\n",
       " '7b175943-8959-4b8d-835d-11ad04f1f785',\n",
       " '14ca314d-e423-4a29-ab7f-a977873019d7',\n",
       " 'd3ddbbc1-5a10-4db9-bb6c-5de41fd0d89e',\n",
       " 'b7411ab3-ff71-4582-a2db-c68cf83e320b',\n",
       " '3a0dc27a-586a-48b6-9560-3e7e147e0a84',\n",
       " 'abaee295-7287-4b5b-8d08-d8d283dda2a9',\n",
       " 'a2175653-6468-41d4-90ff-a434ed3b5917',\n",
       " '49c38c23-a119-42be-b910-9e79849f8c7b',\n",
       " '30af02ce-b17a-402a-b0f3-75a544158ae1',\n",
       " '0ff72e2d-3004-4a79-9bff-2046fe8af957',\n",
       " 'a99b9a77-304c-4847-b790-8eeec1754ed5',\n",
       " 'c661621c-be23-4c48-b572-43d5399beebc',\n",
       " '579d976e-69c1-4c5b-a8f9-adfbfef36c4a',\n",
       " '6130511a-f995-443c-979f-63e2c41c336b',\n",
       " 'e9628b9b-f273-43fd-9663-4adec3ca428b',\n",
       " '531d4866-38ad-4cfd-97e7-2a580df75f42',\n",
       " '73460045-45c0-46c3-bcf4-30b69aa8506b',\n",
       " '382c5c06-51ae-477d-85d4-54e7df8a0170',\n",
       " 'bc59c3a1-eb76-4bb2-813c-7c52e9bcb3ee',\n",
       " '844a25cf-bb19-4045-8cb6-ba5c6cb5b745',\n",
       " 'e70a3b12-74ba-4eb0-82c5-b300d82ef361',\n",
       " '8614c893-ddb9-411a-9c1f-9069d18236d0',\n",
       " 'f0a18abd-7123-4f6f-90ad-d80aa21c4a03',\n",
       " '63aa0b22-7d3c-46d5-9598-280f3daf2aa3',\n",
       " '7d3ff144-ae6d-45ca-887c-1d9dc421d631',\n",
       " 'b00e6a75-4a4d-40a1-944a-00fbb8322ee0',\n",
       " '65a1d44b-b4e2-463e-bf17-5ee098530114',\n",
       " '97f1846b-cfeb-40e2-9438-891b3bdc8b26',\n",
       " '78943f5d-7dbc-436f-98f0-9f2082193c1a',\n",
       " 'edd7fc9c-70b4-4efa-ba8a-e38e8143b843',\n",
       " 'a576dd8c-e5ca-4772-ac7c-fd4ba5d8c19e',\n",
       " '6663c8f1-b351-48aa-ac03-95f45b98aee3',\n",
       " '53f00ac3-535c-490c-af9a-6d8f9b8d5009',\n",
       " '05d11446-d86b-43e1-b8cb-724619d459be',\n",
       " 'f63ab154-79bb-449f-8c61-91acb93fb09a',\n",
       " '303251b7-da57-4d48-992a-9304f119db79',\n",
       " '7f8340a0-d9a7-4a74-9ce9-5a414c77a558',\n",
       " '666bcb7c-0c23-4b04-92e0-0184063015cb',\n",
       " '45f5084c-b89f-4a7a-b875-f89b659786a9',\n",
       " 'f083ef45-6541-4b71-8b17-9d2ac7630f72',\n",
       " '441789c9-8108-4162-8b2c-6bdea1d143fe',\n",
       " 'f1916720-038b-45e5-9a04-a08089676819',\n",
       " 'b4d5e62c-bdba-42e6-8919-34689baf3e58',\n",
       " 'deb2cb59-516c-4592-a734-ec5648fa2abb',\n",
       " 'b8672b7a-062c-4326-b90e-5cc1f45e50a3',\n",
       " '0b251c71-95c4-4d15-8a62-39120401ddaa',\n",
       " '6b294226-5ba7-4d78-af61-315e29285773',\n",
       " '293eb239-315e-42b6-9e01-5448b207738d',\n",
       " 'ba7c3df2-3f2f-41c9-bbc8-a020ae90b4e5',\n",
       " '5795af91-e1a0-48f6-a5c8-b0dfacd40974',\n",
       " '77bfbf90-aa29-483a-92a2-04ed4d19665a',\n",
       " 'b89ce847-e5ce-47f6-8ce0-3aa9991a9a8f',\n",
       " '2db36326-1666-4798-b733-d875fcad993d',\n",
       " '0136372c-d17d-4662-b52a-7531ac6375aa',\n",
       " '2baf0266-5b4b-43e7-9dc3-0ff5b859fc40',\n",
       " 'cd9a504c-d06d-40cc-a8cf-8ba1ea2c2a12',\n",
       " 'f8c87e65-3303-4b6b-8b5c-a093e776555b',\n",
       " '9f65eed4-c3ed-44ab-a7de-a234d79dd046',\n",
       " 'e4848140-b2e7-4211-a069-cb4d3a1116c9',\n",
       " '010ed98c-0133-4a73-b8a4-a81ef4de7c5d',\n",
       " '840ee0ef-739f-4b5e-96ab-724697851215',\n",
       " '500dfff4-8ac0-4fbb-902e-f2e6267cd552',\n",
       " 'b3364c03-fffd-44bb-b038-7cf2e8cf80e3',\n",
       " '812a9ab5-dfd6-44ed-9b45-3abca4fb4974',\n",
       " 'b7c9f43c-b242-45bd-ae34-a264916e9914',\n",
       " 'e92f2cc0-6b32-484b-8f9d-4bcb039b81a9',\n",
       " 'c642e383-b313-4488-a764-7b6380f48d19',\n",
       " 'b0ade309-e179-40b0-8d45-eda0ef365e41',\n",
       " '23cc5f30-87c3-4cce-bf6a-50b4ffd80d64',\n",
       " '7abe8ef3-b92c-4eb8-b452-f44081942739',\n",
       " '9bdfff15-616a-4f7d-96e5-34cc75da8976',\n",
       " 'ab455ff8-d934-475f-beac-d05c89758690',\n",
       " '2db58731-d371-45ef-b121-589609aa2b9a',\n",
       " '46422364-a554-40b3-a527-afa4a97f49a8',\n",
       " 'bd6ab64f-7b45-442c-98a1-37e0718a7acc',\n",
       " '608a3ac9-483e-461c-bd0b-b8ecbb9d240f',\n",
       " 'e0d7519e-cbaa-4bed-b61b-9272b823473c',\n",
       " 'c5b4dcfb-f9b5-4f59-bf81-4816b9bb509a',\n",
       " 'b66d7369-1c42-4993-b83f-00866791957b',\n",
       " 'ab158fb9-cbee-469a-bf98-43f6426e5790',\n",
       " '70cfe72d-66e0-4eba-ae68-665c77113425',\n",
       " 'd9c1f382-89b2-43a2-9007-996dd8773732',\n",
       " '0656c320-3bf1-4c64-a588-bb1bfafc6902',\n",
       " '23109b29-1317-4e95-b695-2adbe61c71d3',\n",
       " '3563a035-d806-4747-a670-9ba63cb25ad4',\n",
       " 'd14ca5a8-0f87-4b25-9901-f8b462cc58ea',\n",
       " 'dc81275a-028f-49e9-9744-c51b08713230',\n",
       " '2b10c9cb-78dc-49b4-9086-3bdb900476e1',\n",
       " '34133050-28de-48fc-be27-350b434fdf0a',\n",
       " '8be4d0fc-d2b4-4234-8858-b901641d7819',\n",
       " '28bc06fb-5b58-4136-a9c0-720f53abd707',\n",
       " '91a97983-e6e3-4a2f-be58-434c8c089652',\n",
       " '819307b5-eef1-4812-9da1-b9997eda9937',\n",
       " '8954fd52-09b3-436d-9e80-94e74b3a2dd5',\n",
       " '85d7a286-892d-4c53-a831-33efd7d4fc93',\n",
       " 'da631ac6-2eee-492a-8827-2ee6e95cd4f4',\n",
       " 'ef5f8d98-6ea6-4060-81d1-dafe66c99c10',\n",
       " 'd11fc16f-1e3d-496e-9a11-4d9b0db5885d',\n",
       " '6a783738-be17-45bd-b0d7-766552f63d3c',\n",
       " '48f6493d-70ae-435d-a1f1-04335a4d063d',\n",
       " '7ecc5517-7c33-4d3d-a780-bb937971788b',\n",
       " '8907fe07-169e-45df-a0ab-1f7ba5fc40d6',\n",
       " 'e3b84a98-66bc-4021-8d42-dd75f8b31a39',\n",
       " 'd2ca6117-bcea-4e23-bf20-ba45c194ab08',\n",
       " 'b1ff252f-0946-43b2-ac62-c4402107b914',\n",
       " '0cae0a5f-dc29-4337-8d6c-abc83cc49645',\n",
       " '91e1e2d4-c1fd-47de-934d-4f5c50220a5b',\n",
       " '14314687-a331-4589-a86d-eb6a8e225808',\n",
       " '6940aa96-44d8-46da-aa7b-f12dbb344fc9',\n",
       " '9718b6a1-f98d-4440-a9a1-ea66cd27b272',\n",
       " '49443c1d-39e7-4bc9-a602-f57b5c727285',\n",
       " '66606e55-724a-4787-bc28-a05d530721c0',\n",
       " 'fd5594d9-1e61-4e22-897a-d06f4dff2b69',\n",
       " '633bd005-f145-434f-8001-6afddaab8ed5',\n",
       " 'c578dad2-3e22-401f-b4d9-5cfc0469487c',\n",
       " 'ed9843bd-2ab6-41fd-8bcc-b0d38e59ee79',\n",
       " '2d9cbc07-949f-4d67-a499-b4c923290e81',\n",
       " '2d4b1fc0-ed09-4a33-a761-30c5631fe899',\n",
       " 'c675d89a-36f5-4c6e-8436-16da17d19b22',\n",
       " '371b5f6b-a91a-4bf2-9e72-037e7b92b734',\n",
       " '46d8f0d4-e23e-41de-8ff1-0a9518d88a4f',\n",
       " '3fcbb478-4759-49d8-b8f8-3bd3aeb79823',\n",
       " '6759dff3-0fbf-4db1-a1c8-952ab0ededba',\n",
       " 'd1a0da83-bee8-4846-92b2-a2c45f0d1730',\n",
       " '1848ba3e-be0c-4c1a-923e-1c9d387ac0ff',\n",
       " '1662f5c9-71cc-46cb-8ff8-6f38bec4afd0',\n",
       " '523a8c57-279d-4e93-bd88-2ecc0642fdad',\n",
       " 'cfef7232-b214-4cb3-b788-dbfea14ef187',\n",
       " 'e9abc98b-3b26-4513-8d77-789da46d9f0b',\n",
       " '5e99be83-379b-4f4a-a081-386341919e94',\n",
       " '7a01c9eb-c7e6-410b-a614-b9de5541a30e',\n",
       " '04096e95-f8d0-4e8e-a1c9-2fd2baf11eb9',\n",
       " '22fff499-c9e1-4c9c-af21-60a255b1b30b',\n",
       " 'fabd3d8d-20bf-468c-94d0-f8cea1c37a4d',\n",
       " '0c3d0981-720f-48d3-af00-8986b33f1f8d',\n",
       " '564045ec-701c-4517-80f4-2a8dc5e77dca',\n",
       " 'f131d340-3648-4744-8f13-f93f3d935f1e',\n",
       " '6f6b8ecd-9de7-4c84-9db6-9938afaca5e9',\n",
       " 'cf374fcc-2a71-4f62-9fed-5d3e4e693d05',\n",
       " 'b1cb5dd6-d5c8-4a95-8750-5db4a4d6d58e',\n",
       " '6174c1bc-d1cf-46b8-b559-c0a99835c525',\n",
       " '96948ba6-fc25-409c-b6a8-bdae9e47f4e6',\n",
       " '5b2d0c41-0511-445e-8c05-3160a50e5820',\n",
       " 'aa8a7a1c-75f6-4834-8060-23e79f431278',\n",
       " 'a5f4af5d-aeb1-41fd-b549-9c6ead07e473',\n",
       " '27bfd72a-7639-4850-9938-8c3e1fba7604',\n",
       " '0cfa84f3-acdf-42bb-956a-8d6cc8394bb5',\n",
       " '3beb6c6e-2ad4-43e4-a966-f0a0325c3190',\n",
       " '2ecb5149-9882-47ed-bd3f-4ccd9f170e39',\n",
       " 'e886e794-6293-49e7-bbca-f4445f99d084',\n",
       " 'efdc03db-210f-4fdd-9fee-aab3383eb33a',\n",
       " 'e1aec246-3c65-4608-8123-849163ffc569',\n",
       " 'a416986c-aace-4edd-95d0-096a0ab02f62',\n",
       " 'cb4e10c2-dc9c-4f3a-bd73-0ee442e5dfe7',\n",
       " '587583c8-e711-46b2-bce5-51ea94de757e',\n",
       " 'cc0b7ef0-f491-4a2f-9184-64fa5fca9b45',\n",
       " '54906f50-8104-41d4-93e7-09ad20f9c26c',\n",
       " 'a137de8b-f2a9-43d5-93a6-5183fe449f81',\n",
       " '01fa712e-9e6a-495f-b248-372899c7dafa',\n",
       " '72e4b71e-3f24-40e8-aba4-5996025c230f',\n",
       " '38938b3f-49dd-4dbe-a4c1-439a6d292371',\n",
       " 'd806cbfb-1b91-47cc-8690-cdc8ac43c8c1',\n",
       " 'd4f4dd0d-0e6d-4847-9ede-702c1267ef94',\n",
       " '9e01a199-3d47-4ea7-838b-44fb552dc59d',\n",
       " 'c3dc2bd5-8980-4de7-ad66-1c8cb6d8dbaf',\n",
       " 'f613b6c8-5271-40a5-b505-483c019a0402',\n",
       " 'e78890c3-02e1-44ae-8fad-eb085d107760',\n",
       " '6d36f569-64d5-444b-b4b8-33aaee8f5a2f',\n",
       " 'adc21a10-6e78-43bc-8822-e73c2ae0c26d',\n",
       " 'cdd3d6aa-7db5-4535-90a9-9d410fd17735',\n",
       " 'b4744c32-ac8b-4bd6-b3cc-afffe73416e7',\n",
       " '61275221-7764-4515-882d-1044e4ee9da9',\n",
       " '23c5620e-9c5e-4776-959d-c48484d447d8',\n",
       " 'dae55872-1804-41a9-afee-def4cb7d227b',\n",
       " 'e7004a7c-e69f-4402-ac34-167b2d8dc72c',\n",
       " '885c8195-62e0-43af-9617-d1d757559323',\n",
       " '04c14391-b4d5-45a8-a6c2-3ac746a5dcfa',\n",
       " '887c3466-8316-4fc2-ac30-a48ba1f632ca',\n",
       " '8f2011fb-78af-4bd6-b0c7-0058ae7ea521',\n",
       " '0a615c9a-cbe7-43eb-8759-f59d365e36cf',\n",
       " '28bac56c-ca06-4b7a-a224-31f18e6f8df3',\n",
       " 'b9836255-8ae6-4be3-a469-43b634e27966',\n",
       " '67a49f19-2199-411c-b36e-68064e2a7b69',\n",
       " '98458a7d-79c3-47f7-87f9-fad6002a3764',\n",
       " '2ee6d8eb-bca0-42d8-af26-0dbac116fbf2',\n",
       " '06f4838f-180f-4d35-a430-c30f3116ae51',\n",
       " '98fb1491-5bb4-475b-b0b8-d93349da49ec',\n",
       " 'fdf0b709-ca6a-4d8f-a20c-13f6338c35c5',\n",
       " '370b9ce2-38ca-42bf-8b7e-a379edc16fec',\n",
       " '2984cf5d-d71f-4cb4-96f6-3656827b675a',\n",
       " '31c3a249-41a7-4582-b7db-5184f0fb63bf',\n",
       " '81f9f473-605f-41c6-a9b0-09fc4c21120a',\n",
       " '8f94f3b5-d2a6-4e90-8397-c1c06ffe257d',\n",
       " 'c48f3d72-63c9-4d99-b513-bb330ede6fb8',\n",
       " '89c9376d-85ea-4aca-b64d-f40ef316afaa',\n",
       " 'f8a52d3d-e2f2-4cf8-ab94-b833ee2de345',\n",
       " 'e909a28f-ad0b-417b-aff4-d71af6227e1b',\n",
       " 'cddfc390-e149-4ad3-bd48-dc2d98a4ba0f',\n",
       " 'efb77440-ad4b-41ec-8b3a-fc95dba4f50a',\n",
       " 'a5c49a49-8f88-47a3-9b8e-e3c19458743a',\n",
       " '99f1025a-01c8-4f4d-b2a1-cdc4279ccada',\n",
       " '5828734f-a329-4e85-8821-e17bdc308420',\n",
       " '4f4fb27c-72d3-4aaa-a1a7-bb2683e78f2c',\n",
       " '6acfbbc9-a763-4f90-bed3-33d985b8b4fa',\n",
       " '962ab5ae-eacc-4458-9a5b-c97a4c4a515a',\n",
       " 'a22b2d72-2b4f-4ea0-b71b-66a15b7ebb93',\n",
       " '7e37b3f8-d646-4388-8199-cd05300cb1c9',\n",
       " '3da54261-5c7b-4294-a784-a93417f2f43b',\n",
       " '5e7d0a9c-0c6a-4ed1-a5af-5051f0e88e81',\n",
       " '03e18159-45a2-4eac-895e-f7f9d7d235c6',\n",
       " '035bee76-1fd1-4130-ba7c-afc0d8424d76',\n",
       " 'c648ae0c-5ee1-47ec-87da-3d4fcec8947b',\n",
       " '5b740621-2347-4266-8a63-293154319474',\n",
       " '14f6144f-0ac6-4b3d-82f1-dfa51807e574',\n",
       " 'df6b822d-5390-4cea-baa2-965546724a11',\n",
       " '5b75b2ab-5cd9-4ebd-8f10-d77cec4c3db8',\n",
       " '28e5ecd6-a24d-4582-8614-26d68588daaa',\n",
       " 'c605d078-e4da-4aaa-872e-7c0b96ee84cf',\n",
       " '24ca4292-f134-47ae-ac24-a7e86d4de9f0',\n",
       " '4f1ccecd-50a4-4838-9191-7f285eaf7fe7',\n",
       " 'caaac37a-5c64-40cc-b9dd-3cbf7da1f324',\n",
       " '1123b0d6-9732-4dcd-aef4-14d21ca52fe9',\n",
       " 'f4cc9f38-0bfc-48a1-8528-0101ccf34eee',\n",
       " '453aa71b-660b-488d-8321-a8dd04997800',\n",
       " '23dec731-d1b2-4f4f-b365-5b08419586e0',\n",
       " '46789b99-0c23-4384-b39e-5eb35b29b93d',\n",
       " '6f7bd2b7-814e-4f0d-8a8b-bfa2ec166e6e',\n",
       " '6c93ee34-f9ef-4770-adef-2f757ac20b0c',\n",
       " '6cad485d-9213-4890-826a-b540a5ec514e',\n",
       " '4957caa2-1e06-4f1a-9f4c-e0f20689552d',\n",
       " 'ba442db0-ecc6-4673-a91d-bf231184f999',\n",
       " '17577bc7-5d7a-4a23-b852-bd7d352e4923',\n",
       " '52e4c34e-ba64-42c0-8e06-eb1a4433557a',\n",
       " '50709e2d-74aa-4949-abd9-5d69d6880d12',\n",
       " '38f4b877-233f-43ff-9550-db5b843b962e',\n",
       " '6cc56cdd-5635-4ca1-ab61-fedd7f43e4f0',\n",
       " '80247756-c644-4153-b91d-aa2bed88da58',\n",
       " '78c5d4fd-06af-43f3-af41-d5f3b95a4eb3',\n",
       " '4c05bebd-d2e8-4159-95b2-319dd2de5d2e',\n",
       " '55a5e723-86b7-48d3-8599-f8fe5f127fa0',\n",
       " 'e6c3f062-f84a-425b-99ea-e718a87d3439',\n",
       " '253efbf5-4645-4af9-b69d-2ffefba14ce7']"
      ]
     },
     "execution_count": 7,
     "metadata": {},
     "output_type": "execute_result"
    }
   ],
   "source": [
    "from langchain_chroma import Chroma\n",
    "\n",
    "vector_store = Chroma(\n",
    "    embedding_function=embeddings,\n",
    ")\n",
    "vector_store.add_documents(documents=texts)"
   ]
  },
  {
   "cell_type": "code",
   "execution_count": 8,
   "metadata": {},
   "outputs": [
    {
     "data": {
      "text/plain": [
       "[Document(id='95a54a6b-b317-40ed-b0ed-3d44714e1e77', metadata={}, page_content='most of them anyway. So I’m here today, to share with you\\nmy philosophy for a happy life. So, for me,\\nthere are 3 aspects to this philosophy. So this is a quote\\nfrom the famous Ferris Bueller. The first aspect to my philosophy is that I’m okay with what I ultimately can’t do because there is so much I can do. Now people sometimes'),\n",
       " Document(id='0319514f-1ef7-42d6-bc5c-2bdf4934a8b1', metadata={}, page_content='that I want to be with, and I keep moving forward. So with this philosophy,\\nI hope that all of you, regardless of your obstacles, can have a very happy life as well. Oh, wait, hang on a second, one more piece of advice –- (Laughter) Never miss a party if you can help it. My school’s homecoming dance\\nis tomorrow night, and I will be there. Thank you very much. (Applause)')]"
      ]
     },
     "execution_count": 8,
     "metadata": {},
     "output_type": "execute_result"
    }
   ],
   "source": [
    "query = \" philosophy for a happy life\"\n",
    "retriever = vector_store.as_retriever(\n",
    "            search_type=\"similarity\", search_kwargs={\"k\": 2}\n",
    "        )\n",
    "relevant_docs = retriever.invoke(query)\n",
    "relevant_docs"
   ]
  },
  {
   "cell_type": "markdown",
   "metadata": {},
   "source": [
    "## 4. Inference"
   ]
  },
  {
   "cell_type": "code",
   "execution_count": 9,
   "metadata": {},
   "outputs": [
    {
     "name": "stderr",
     "output_type": "stream",
     "text": [
      "/tmp/ipykernel_15731/3798706509.py:3: LangChainDeprecationWarning: The class `ChatOpenAI` was deprecated in LangChain 0.0.10 and will be removed in 1.0. An updated version of the class exists in the :class:`~langchain-openai package and should be used instead. To use it run `pip install -U :class:`~langchain-openai` and import as `from :class:`~langchain_openai import ChatOpenAI``.\n",
      "  model = ChatOpenAI(model=\"gpt-4o-mini\")\n"
     ]
    }
   ],
   "source": [
    "from langchain_community.chat_models import ChatOpenAI\n",
    "from langchain_core.output_parsers import StrOutputParser\n",
    "model = ChatOpenAI(model=\"gpt-4o-mini\")"
   ]
  },
  {
   "cell_type": "code",
   "execution_count": 10,
   "metadata": {},
   "outputs": [
    {
     "name": "stderr",
     "output_type": "stream",
     "text": [
      "/home/rahul/anaconda3/lib/python3.12/site-packages/langsmith/client.py:241: LangSmithMissingAPIKeyWarning: API key must be provided when using hosted LangSmith API\n",
      "  warnings.warn(\n"
     ]
    }
   ],
   "source": [
    "from langchain import hub\n",
    "prompt = hub.pull(\"empler-ai/rag-prompt\")"
   ]
  },
  {
   "cell_type": "code",
   "execution_count": 11,
   "metadata": {},
   "outputs": [],
   "source": [
    "writer = prompt | model | StrOutputParser()"
   ]
  },
  {
   "cell_type": "code",
   "execution_count": 12,
   "metadata": {},
   "outputs": [],
   "source": [
    "content=[doc.page_content for doc in relevant_docs]\n",
    "context = \"\\n\\n\".join(content)"
   ]
  },
  {
   "cell_type": "code",
   "execution_count": 13,
   "metadata": {},
   "outputs": [],
   "source": [
    "query=\"philosophy for a happy life\""
   ]
  },
  {
   "cell_type": "code",
   "execution_count": 14,
   "metadata": {},
   "outputs": [],
   "source": [
    "answer=writer.invoke({\"question\":query,\"context\":context})"
   ]
  },
  {
   "cell_type": "code",
   "execution_count": 15,
   "metadata": {},
   "outputs": [
    {
     "data": {
      "text/plain": [
       "\"The philosophy for a happy life shared in the context emphasizes three aspects, with the first being acceptance of one's limitations while appreciating the multitude of possibilities available. The speaker conveys that it's important to focus on what can be done rather than what cannot, and encourages others to move forward despite obstacles. Additionally, there's a lighthearted reminder to enjoy life and not miss out on social gatherings, suggesting that connection and celebration are key components of happiness.\""
      ]
     },
     "execution_count": 15,
     "metadata": {},
     "output_type": "execute_result"
    }
   ],
   "source": [
    "answer"
   ]
  },
  {
   "cell_type": "code",
   "execution_count": null,
   "metadata": {},
   "outputs": [],
   "source": []
  }
 ],
 "metadata": {
  "kernelspec": {
   "display_name": "base",
   "language": "python",
   "name": "python3"
  },
  "language_info": {
   "codemirror_mode": {
    "name": "ipython",
    "version": 3
   },
   "file_extension": ".py",
   "mimetype": "text/x-python",
   "name": "python",
   "nbconvert_exporter": "python",
   "pygments_lexer": "ipython3",
   "version": "3.12.8"
  }
 },
 "nbformat": 4,
 "nbformat_minor": 2
}
